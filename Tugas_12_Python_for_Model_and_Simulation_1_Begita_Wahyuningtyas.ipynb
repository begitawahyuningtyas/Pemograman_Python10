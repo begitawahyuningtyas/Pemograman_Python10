{
  "nbformat": 4,
  "nbformat_minor": 0,
  "metadata": {
    "colab": {
      "name": "Tugas 12_Python for Model and Simulation #1_Begita Wahyuningtyas.ipynb",
      "provenance": [],
      "collapsed_sections": [],
      "authorship_tag": "ABX9TyMdwrNdGeE0N6tb5BXXFEPg",
      "include_colab_link": true
    },
    "kernelspec": {
      "name": "python3",
      "display_name": "Python 3"
    }
  },
  "cells": [
    {
      "cell_type": "markdown",
      "metadata": {
        "id": "view-in-github",
        "colab_type": "text"
      },
      "source": [
        "<a href=\"https://colab.research.google.com/github/begitawahyuningtyas/Pemograman_Python10/blob/main/Tugas_12_Python_for_Model_and_Simulation_1_Begita_Wahyuningtyas.ipynb\" target=\"_parent\"><img src=\"https://colab.research.google.com/assets/colab-badge.svg\" alt=\"Open In Colab\"/></a>"
      ]
    },
    {
      "cell_type": "code",
      "metadata": {
        "id": "_u_uyVXamJmC"
      },
      "source": [
        "import numpy as np"
      ],
      "execution_count": 12,
      "outputs": []
    },
    {
      "cell_type": "code",
      "metadata": {
        "id": "o782nomwum0Z"
      },
      "source": [
        "#numeric to logarithmic\r\n",
        "NtL = lambda x: 10*np.log10(x)"
      ],
      "execution_count": 13,
      "outputs": []
    },
    {
      "cell_type": "code",
      "metadata": {
        "colab": {
          "base_uri": "https://localhost:8080/"
        },
        "id": "74YrFN8Ju6Lm",
        "outputId": "b1ebd31e-8a96-4303-a14e-cc2fa5056d03"
      },
      "source": [
        "#testing numeric to logarithmic\r\n",
        "z=NtL(100)\r\n",
        "print(z)"
      ],
      "execution_count": 14,
      "outputs": [
        {
          "output_type": "stream",
          "text": [
            "20.0\n"
          ],
          "name": "stdout"
        }
      ]
    },
    {
      "cell_type": "code",
      "metadata": {
        "id": "gzK-Wc7JolQV"
      },
      "source": [
        "#logarithmic to numeric\r\n",
        "LtN = lambda x: 10**(x/10)"
      ],
      "execution_count": 15,
      "outputs": []
    },
    {
      "cell_type": "code",
      "metadata": {
        "colab": {
          "base_uri": "https://localhost:8080/"
        },
        "id": "84jIdG-0o4_S",
        "outputId": "f3f3f6d0-0f50-4423-f64f-fdaf80df1a0c"
      },
      "source": [
        "#testing logarithmic to numeric\r\n",
        "y=LtN(20)\r\n",
        "print(y)"
      ],
      "execution_count": 16,
      "outputs": [
        {
          "output_type": "stream",
          "text": [
            "100.0\n"
          ],
          "name": "stdout"
        }
      ]
    },
    {
      "cell_type": "code",
      "metadata": {
        "id": "w2JgBvHOo7u7"
      },
      "source": [
        "\r\n",
        "def Lp(fc, hT, hR, d, tipe):\r\n",
        "  #Input nilai c, berubah sesuai frekuensi \r\n",
        "  if 400<= fc <= 1500:\r\n",
        "    C1= 69.55\r\n",
        "    C2= 26.16\r\n",
        "    \r\n",
        "  if 1500< fc <= 2000:\r\n",
        "    C1= 46.3\r\n",
        "    C2= 33.9\r\n",
        "\r\n",
        "  #Input nilai ahr\r\n",
        "  ahr = ((1.1*np.log10(fc))-0.7)*hR - ((1.56*np.log10(fc)-0.8))\r\n",
        "\r\n",
        "  #Input nilai Cm, nilainya berubah sesuai tipe area\r\n",
        "  if tipe== \"daerah urban\":\r\n",
        "    Cm= 0\r\n",
        "  if tipe== \"daerah suburban\":\r\n",
        "    Cm= -2*(np.log10(fc/28))**2 - 5.4\r\n",
        "  if tipe== \"daerah open\":\r\n",
        "    Cm= -4.78*(np.log10(fc))**2 + 18.33*(np.log10(fc))-40.94\r\n",
        "\r\n",
        "  #Menghitung pathloss\r\n",
        "  pathloss= C1+C2*np.log10(fc)-13.83*np.log10(hT)-ahr+(44.9-6.55*np.log10(hT))*np.log10(d)+Cm\r\n",
        "  pathlossnum= LtN(-pathloss)\r\n",
        "  \r\n",
        "  return pathloss, pathlossnum"
      ],
      "execution_count": 20,
      "outputs": []
    },
    {
      "cell_type": "code",
      "metadata": {
        "colab": {
          "base_uri": "https://localhost:8080/"
        },
        "id": "qoJZEj-0u3nv",
        "outputId": "7db5d55b-613b-431e-d023-4ded2cb21ba5"
      },
      "source": [
        "#Menghitung pathloss dengan memasukan variabel (fc=1800MHz ; hT=60m ; hR=15m ; d=10km ; Cm=Daerah Suburban)\r\n",
        "Pathloss, Pathlossnum= Lp(1800, 60, 15, 10, \"daerah suburban\")\r\n",
        "print(\"Path Loss dalam db= \", Pathloss, \"dB\")\r\n",
        "print(\"Path Loss dalam num= \", Pathlossnum, \"kali\")"
      ],
      "execution_count": 22,
      "outputs": [
        {
          "output_type": "stream",
          "text": [
            "Path Loss dalam db=  114.44268831349136 dB\n",
            "Path Loss dalam num=  3.5952671668682163e-12 kali\n"
          ],
          "name": "stdout"
        }
      ]
    }
  ]
}